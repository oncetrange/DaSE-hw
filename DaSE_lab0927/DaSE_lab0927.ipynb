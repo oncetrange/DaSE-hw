{
 "cells": [
  {
   "cell_type": "markdown",
   "source": [
    "Python练习"
   ],
   "metadata": {
    "collapsed": false,
    "pycharm": {
     "name": "#%% md\n"
    }
   }
  },
  {
   "cell_type": "markdown",
   "metadata": {
    "collapsed": true,
    "pycharm": {
     "name": "#%% md\n"
    }
   },
   "source": [
    "1.遍历练习"
   ]
  },
  {
   "cell_type": "code",
   "execution_count": 1,
   "outputs": [
    {
     "name": "stdout",
     "output_type": "stream",
     "text": [
      "2725392139750729502980713245400918633290796330545803413734328823443106201171875\n"
     ]
    }
   ],
   "source": [
    "product=1\n",
    "for i in range(101):\n",
    "    if i%2==1:\n",
    "        product*=i\n",
    "print(product)\n"
   ],
   "metadata": {
    "collapsed": false,
    "pycharm": {
     "name": "#%%\n"
    }
   }
  },
  {
   "cell_type": "markdown",
   "source": [
    "2.循环练习(for)"
   ],
   "metadata": {
    "collapsed": false
   }
  },
  {
   "cell_type": "code",
   "execution_count": null,
   "outputs": [],
   "source": [
    "l = [1, 2, 3, 4, 5]\n",
    "l2 = []\n",
    "for i in l:\n",
    "    l2.insert(0, i)\n",
    "print(l2)"
   ],
   "metadata": {
    "collapsed": false,
    "pycharm": {
     "name": "#%%\n"
    }
   }
  },
  {
   "cell_type": "markdown",
   "source": [
    "2.循环练习(while)\n"
   ],
   "metadata": {
    "collapsed": false
   }
  },
  {
   "cell_type": "code",
   "execution_count": null,
   "outputs": [],
   "source": [
    "l = [1, 2, 3, 4, 5]\n",
    "l2 = []\n",
    "i = 0\n",
    "while i < len(l):\n",
    "    l2.insert(0, l[i])\n",
    "    i += 1\n",
    "print(l2)"
   ],
   "metadata": {
    "collapsed": false,
    "pycharm": {
     "name": "#%%\n"
    }
   }
  },
  {
   "cell_type": "markdown",
   "source": [
    "3.字符串练习"
   ],
   "metadata": {
    "collapsed": false
   }
  },
  {
   "cell_type": "code",
   "execution_count": null,
   "outputs": [],
   "source": [
    "l=\"abccccda\"\n",
    "prev_i = ''\n",
    "Sum = 1\n",
    "Max = 1\n",
    "for i in l:\n",
    "    if prev_i == i:\n",
    "        Sum += 1\n",
    "        if Sum > Max:\n",
    "            Max = Sum\n",
    "    else:\n",
    "        Sum = 1\n",
    "    prev_i = i;\n",
    "if Max > 1:\n",
    "    print(\"yes \"+str(Max))\n",
    "else:\n",
    "    print(\"no\")"
   ],
   "metadata": {
    "collapsed": false,
    "pycharm": {
     "name": "#%%\n"
    }
   }
  },
  {
   "cell_type": "markdown",
   "source": [
    "4.字符串练习2"
   ],
   "metadata": {
    "collapsed": false,
    "pycharm": {
     "name": "#%% md\n"
    }
   }
  },
  {
   "cell_type": "code",
   "execution_count": null,
   "outputs": [],
   "source": [
    "S = \"Data Science and Engineering\"\n",
    "S2 = \"\"\n",
    "for i in S:\n",
    "    if i != ' ':\n",
    "        S2 += i\n",
    "print(S2)"
   ],
   "metadata": {
    "collapsed": false,
    "pycharm": {
     "name": "#%%\n"
    }
   }
  },
  {
   "cell_type": "markdown",
   "source": [
    "数据思维练习"
   ],
   "metadata": {
    "collapsed": false,
    "pycharm": {
     "name": "#%% md\n"
    }
   }
  },
  {
   "cell_type": "markdown",
   "source": [
    "1.蒙特卡洛求积分$\\int(x^3+x^2)dx$"
   ],
   "metadata": {
    "collapsed": false,
    "pycharm": {
     "name": "#%% md\n"
    }
   }
  },
  {
   "cell_type": "code",
   "execution_count": null,
   "outputs": [],
   "source": [
    "import random\n",
    "answer = 0\n",
    "times = 1000000\n",
    "scale = 2  # 函数最大值小于2\n",
    "for i in range(times):\n",
    "    x = random.random()\n",
    "    y = random.random()*scale\n",
    "    if y < x**2+x**3:\n",
    "        answer += scale/times\n",
    "print(answer)"
   ],
   "metadata": {
    "collapsed": false,
    "pycharm": {
     "name": "#%%\n"
    }
   }
  }
 ],
 "metadata": {
  "kernelspec": {
   "name": "pycharm-d7e79ffa",
   "language": "python",
   "display_name": "PyCharm (python)"
  },
  "language_info": {
   "codemirror_mode": {
    "name": "ipython",
    "version": 2
   },
   "file_extension": ".py",
   "mimetype": "text/x-python",
   "name": "python",
   "nbconvert_exporter": "python",
   "pygments_lexer": "ipython2",
   "version": "2.7.6"
  }
 },
 "nbformat": 4,
 "nbformat_minor": 0
}