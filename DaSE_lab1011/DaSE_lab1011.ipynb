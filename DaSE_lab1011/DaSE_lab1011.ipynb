{
 "cells": [
  {
   "cell_type": "markdown",
   "metadata": {
    "collapsed": true,
    "pycharm": {
     "name": "#%% md\n"
    }
   },
   "source": [
    "1.冒泡排序"
   ]
  },
  {
   "cell_type": "code",
   "source": [
    "def bubble_sort(arr):\n",
    "    n = len(arr)\n",
    "    for i in range(n):\n",
    "        for j in range(0, n-i-1):\n",
    "            if arr[j] > arr[j+1] :\n",
    "                arr[j], arr[j+1] = arr[j+1], arr[j]\n",
    "\n",
    "\n",
    "arr = [6, 9, 1, 5, 4, 2, 8, 7]\n",
    "bubble_sort(arr)\n",
    "print(arr)"
   ],
   "metadata": {
    "collapsed": false,
    "pycharm": {
     "name": "#%%\n"
    }
   },
   "execution_count": 4,
   "outputs": [
    {
     "name": "stdout",
     "output_type": "stream",
     "text": [
      "[1, 2, 4, 5, 6, 7, 8, 9]\n"
     ]
    }
   ]
  },
  {
   "cell_type": "markdown",
   "source": [
    "2.比较多次顺序查找与先快速排序再多次二分查找的效率"
   ],
   "metadata": {
    "collapsed": false,
    "pycharm": {
     "name": "#%% md\n"
    }
   }
  },
  {
   "cell_type": "code",
   "execution_count": 10,
   "outputs": [
    {
     "name": "stdout",
     "output_type": "stream",
     "text": [
      "sequential_search:0.06349020000016026\n",
      "quick_sort&half_search:0.015780299999960334\n"
     ]
    }
   ],
   "source": [
    "import math\n",
    "import random\n",
    "import time\n",
    "\n",
    "\n",
    "def sequential_search(arr, key):\n",
    "    for i in range(len(arr)):\n",
    "        if arr[i] == key:\n",
    "            break\n",
    "\n",
    "\n",
    "def half_search(arr, key):\n",
    "    start = 0\n",
    "    end = len(arr)\n",
    "    while start <= end:\n",
    "        mid = math.floor((start + end) / 2)\n",
    "        if arr[mid] == key:\n",
    "            break\n",
    "        elif arr[mid] <= key:\n",
    "            start = mid + 1\n",
    "        else:\n",
    "            end = mid - 1\n",
    "\n",
    "\n",
    "def quick_sort(arr, left, right):\n",
    "    if left >= right:\n",
    "        return\n",
    "    pivot = arr[left]\n",
    "    i = left\n",
    "    j = right\n",
    "    while i < j:\n",
    "        while i < j and arr[j] >= pivot:\n",
    "            j -= 1\n",
    "        arr[i] = arr[j]\n",
    "        while i < j and arr[i] < pivot:\n",
    "            i += 1\n",
    "        arr[j] = arr[i]\n",
    "    arr[i] = pivot\n",
    "    quick_sort(arr, left, i - 1)\n",
    "    quick_sort(arr, i + 1, right)\n",
    "\n",
    "\n",
    "# 测试\n",
    "a1 = []\n",
    "for i in range(1000):\n",
    "    a1.append(random.random())\n",
    "t_a = time.perf_counter()\n",
    "for i in range(1000):\n",
    "    key = a1[random.randint(0, 999)]\n",
    "    sequential_search(a1, key)\n",
    "t_b = time.perf_counter()\n",
    "print(\"sequential_search:\" + str(t_b - t_a))#顺序查找时间\n",
    "t_a = time.perf_counter()\n",
    "quick_sort(a1, 0, 999)\n",
    "for i in range(1000):\n",
    "    key = a1[random.randint(0, 999)]\n",
    "    half_search(a1, key)\n",
    "t_b = time.perf_counter()\n",
    "print(\"quick_sort&half_search:\" + str(t_b - t_a))#快速排序与二分查找时间和"
   ],
   "metadata": {
    "collapsed": false,
    "pycharm": {
     "name": "#%%\n"
    }
   }
  },
  {
   "cell_type": "markdown",
   "source": [
    "由上述数据可得当查找次数较多时，先进行快速排序再二分查找快于直接顺序查找，分析可知快速排序时间复杂度为o(nlogn)，进行m次二分查找时间复杂度为o(mlogn)，两者时间和为o((m+n)logn)，而进行m次顺序查找时间复杂度为o(mn)，所以，当查找次数m>nlogn/(n-logn)时，顺序查找速度就不如先快速排序在二分查找了"
   ],
   "metadata": {
    "collapsed": false,
    "pycharm": {
     "name": "#%% md\n"
    }
   }
  }
 ],
 "metadata": {
  "kernelspec": {
   "display_name": "Python 3",
   "language": "python",
   "name": "python3"
  },
  "language_info": {
   "codemirror_mode": {
    "name": "ipython",
    "version": 2
   },
   "file_extension": ".py",
   "mimetype": "text/x-python",
   "name": "python",
   "nbconvert_exporter": "python",
   "pygments_lexer": "ipython2",
   "version": "2.7.6"
  }
 },
 "nbformat": 4,
 "nbformat_minor": 0
}