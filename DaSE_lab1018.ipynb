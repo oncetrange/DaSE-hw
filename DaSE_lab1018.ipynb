{
 "cells": [
  {
   "cell_type": "markdown",
   "metadata": {
    "collapsed": true,
    "pycharm": {
     "name": "#%% md\n"
    }
   },
   "source": [
    "1.readline和readlines的区别"
   ]
  },
  {
   "cell_type": "code",
   "execution_count": 3,
   "outputs": [
    {
     "name": "stdout",
     "output_type": "stream",
     "text": [
      "hello world\n",
      "\n",
      "['hello China\\n', 'hello Shanghai']\n"
     ]
    }
   ],
   "source": [
    "f1 = open('./test_lab1018.txt','r')\n",
    "s1 = f1.readline()\n",
    "s2 = f1.readlines()\n",
    "print(s1)\n",
    "print(s2)\n",
    "f1.close"
   ],
   "metadata": {
    "collapsed": false,
    "pycharm": {
     "name": "#%%\n"
    }
   }
  },
  {
   "cell_type": "markdown",
   "source": [
    "可见readline只会读取一行，readlines则会把剩余所有行都读取到一个列表中"
   ],
   "metadata": {
    "collapsed": false,
    "pycharm": {
     "name": "#%% md\n"
    }
   }
  },
  {
   "cell_type": "markdown",
   "source": [
    "2.读取计算平均成绩"
   ],
   "metadata": {
    "collapsed": false,
    "pycharm": {
     "name": "#%% md\n"
    }
   }
  },
  {
   "cell_type": "code",
   "execution_count": 12,
   "outputs": [
    {
     "name": "stdout",
     "output_type": "stream",
     "text": [
      "Chinese average:82.60\n",
      "Math average:81.00\n",
      "English average:81.80\n"
     ]
    }
   ],
   "source": [
    "F = open('./stuGrade.csv','r')\n",
    "lines = F.read().splitlines()\n",
    "chineseS = 0\n",
    "mathS = 0\n",
    "englishS = 0\n",
    "for i in range(1,len(lines)):\n",
    "    temp = lines[i].split(',')\n",
    "    chineseS += int(temp[1])\n",
    "    mathS += int(temp[2])\n",
    "    englishS += int(temp[3])\n",
    "print(\"Chinese average:%.2f\\nMath average:%.2f\\nEnglish average:%.2f\" %(chineseS/(len(lines)-1),mathS/(len(lines)-1),englishS/(len(lines)-1)))\n",
    "F.close()"
   ],
   "metadata": {
    "collapsed": false,
    "pycharm": {
     "name": "#%%\n"
    }
   }
  },
  {
   "cell_type": "markdown",
   "source": [
    "3.文件写入"
   ],
   "metadata": {
    "collapsed": false,
    "pycharm": {
     "name": "#%% md\n"
    }
   }
  },
  {
   "cell_type": "code",
   "execution_count": 17,
   "outputs": [],
   "source": [
    "import time\n",
    "f2 = open('./my.txt','w')\n",
    "f2.write('10215501414黄一奇\\n')\n",
    "f2.write('82.60,81.00,81.80\\n')\n",
    "f2.write(time.asctime(time.localtime())+'\\n')\n",
    "time.sleep(2)\n",
    "f2.write(time.asctime(time.localtime()))\n",
    "f2.close()"
   ],
   "metadata": {
    "collapsed": false,
    "pycharm": {
     "name": "#%%\n"
    }
   }
  },
  {
   "cell_type": "code",
   "execution_count": null,
   "outputs": [],
   "source": [],
   "metadata": {
    "collapsed": false,
    "pycharm": {
     "name": "#%%\n"
    }
   }
  }
 ],
 "metadata": {
  "kernelspec": {
   "display_name": "Python 3",
   "language": "python",
   "name": "python3"
  },
  "language_info": {
   "codemirror_mode": {
    "name": "ipython",
    "version": 2
   },
   "file_extension": ".py",
   "mimetype": "text/x-python",
   "name": "python",
   "nbconvert_exporter": "python",
   "pygments_lexer": "ipython2",
   "version": "2.7.6"
  }
 },
 "nbformat": 4,
 "nbformat_minor": 0
}