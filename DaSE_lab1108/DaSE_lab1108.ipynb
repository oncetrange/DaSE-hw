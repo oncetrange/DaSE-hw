{
 "cells": [
  {
   "cell_type": "markdown",
   "source": [
    "1.数据获取"
   ],
   "metadata": {
    "collapsed": false,
    "pycharm": {
     "name": "#%% md\n"
    }
   }
  },
  {
   "cell_type": "code",
   "execution_count": 2,
   "outputs": [],
   "source": [
    "import pymysql\n",
    "import csv\n",
    "import pandas as pd\n",
    "import matplotlib.pyplot as plt\n",
    "import numpy as np\n",
    "db = pymysql.connect(host=\"cdb-r2g8flnu.bj.tencentcdb.com\", port=10209, user=\"dase2020\", password=\"dase2020\",\n",
    "                     database=\"dase_intro_2020\")\n",
    "cursor = db.cursor()\n",
    "sql = \"SELECT * FROM SH_Grade\"\n",
    "cursor.execute(sql)\n",
    "RawData = cursor.fetchall()\n",
    "sql = \"SELECT COLUMN_NAME from information_schema.COLUMNS where table_name = 'SH_Grade'\"\n",
    "cursor.execute(sql)\n",
    "columns = cursor.fetchall()\n",
    "columns = [i[0] for i in columns]\n",
    "columns.insert(2, 'Class')\n",
    "with open('./SH_Grade.csv', 'w', newline='') as f:\n",
    "    writer = csv.writer(f)\n",
    "    writer.writerow(columns)\n",
    "    for da in RawData:\n",
    "        temp = (da[1][0],)\n",
    "        da = da[0:2] + temp + da[2:]\n",
    "        writer.writerow(da)"
   ],
   "metadata": {
    "collapsed": false,
    "pycharm": {
     "name": "#%%\n"
    }
   }
  },
  {
   "cell_type": "markdown",
   "source": [
    "2.数据预处理I"
   ],
   "metadata": {
    "collapsed": false,
    "pycharm": {
     "name": "#%% md\n"
    }
   }
  },
  {
   "cell_type": "code",
   "execution_count": 3,
   "outputs": [
    {
     "name": "stdout",
     "output_type": "stream",
     "text": [
      "before processed 252 rows\n",
      "after processed 243 rows\n"
     ]
    }
   ],
   "source": [
    "Data = pd.read_csv('./SH_Grade.csv')\n",
    "print(f'before processed {Data.shape[0]} rows')\n",
    "Data = Data.drop_duplicates(subset=['StuId'])\n",
    "\n",
    "print(f'after processed {Data.shape[0]} rows')"
   ],
   "metadata": {
    "collapsed": false,
    "pycharm": {
     "name": "#%%\n"
    }
   }
  },
  {
   "cell_type": "markdown",
   "source": [
    "3.数据预处理II"
   ],
   "metadata": {
    "collapsed": false,
    "pycharm": {
     "name": "#%% md\n"
    }
   }
  },
  {
   "cell_type": "code",
   "execution_count": 4,
   "outputs": [
    {
     "name": "stdout",
     "output_type": "stream",
     "text": [
      "before processed II 243 rows\n",
      "after processed II 189 rows\n"
     ]
    }
   ],
   "source": [
    "print(f'before processed II {Data.shape[0]} rows')\n",
    "Data = Data.dropna(thresh=Data.shape[1]-12)\n",
    "print(f'after processed II {Data.shape[0]} rows')\n",
    "Data = Data.reset_index()"
   ],
   "metadata": {
    "collapsed": false,
    "pycharm": {
     "name": "#%%\n"
    }
   }
  },
  {
   "cell_type": "markdown",
   "source": [
    "4.数据预处理III"
   ],
   "metadata": {
    "collapsed": false,
    "pycharm": {
     "name": "#%% md\n"
    }
   }
  },
  {
   "cell_type": "code",
   "execution_count": 5,
   "outputs": [
    {
     "data": {
      "text/plain": "     index   id StuId Class Sex  CHI611  MATH611  ENG611  CHI612  MATH612  \\\n0        0    1   A01     A   F    75.0     83.0    95.0    77.0     95.0   \n1        1    2   A02     A   F    88.0    100.0    90.0    88.0    100.0   \n2        2    3   A03     A   F    85.0     97.0    91.0    87.0     96.0   \n3        3    4   A04     A   F    83.0     97.0    97.0    83.0     94.0   \n4        4    5   A05     A   F    81.0     89.0    94.0    84.0     89.0   \n..     ...  ...   ...   ...  ..     ...      ...     ...     ...      ...   \n184    237  238   G25     G   M    67.0     49.0    49.0    55.0     54.0   \n185    238  239   G26     G   M    41.0     43.0    57.0    51.0     63.0   \n186    239  240   G27     G   M    70.0     80.0    77.0    69.0     75.0   \n187    241  242   G29     G   M    59.0     12.0    62.0    57.0      9.0   \n188    242  243   G30     G   M    66.0     56.0    72.0    70.0     62.0   \n\n     ...  CHI912  MATH912  ENG912  PHY912  CHE912  CHI921  MATH921  ENG921  \\\n0    ...   130.0    134.0   136.5    88.0    94.0   120.0    137.0   140.0   \n1    ...   132.0    146.0   142.0    97.0    96.0   134.0    138.0   145.5   \n2    ...   132.0    146.0   144.5    96.0    95.0   134.0    145.0   146.0   \n3    ...   133.0    129.0   142.0    84.0    94.0   121.0    136.0   140.0   \n4    ...   127.0    137.0   136.0    87.0    92.0   124.0    140.0   128.0   \n..   ...     ...      ...     ...     ...     ...     ...      ...     ...   \n184  ...    94.0     20.0    52.5    46.0    75.0    93.0     10.0    60.0   \n185  ...    69.0     54.0    65.0    57.0    74.0    54.0     68.0    74.0   \n186  ...   119.0    133.0   123.0    88.0    86.0   112.0    114.0   134.5   \n187  ...    89.0     10.0    58.0    30.0    25.0    78.0     26.0    77.5   \n188  ...    85.0     85.0   110.5    68.0    88.0   102.0    103.0   123.5   \n\n     PHY921  CHE921  \n0      79.0    57.0  \n1      84.0    57.0  \n2      86.0    57.0  \n3      83.0    53.0  \n4      79.0    54.0  \n..      ...     ...  \n184    42.0    39.0  \n185    41.0    42.0  \n186    74.0    52.0  \n187    29.0     9.0  \n188    68.0    50.0  \n\n[189 rows x 60 columns]",
      "text/html": "<div>\n<style scoped>\n    .dataframe tbody tr th:only-of-type {\n        vertical-align: middle;\n    }\n\n    .dataframe tbody tr th {\n        vertical-align: top;\n    }\n\n    .dataframe thead th {\n        text-align: right;\n    }\n</style>\n<table border=\"1\" class=\"dataframe\">\n  <thead>\n    <tr style=\"text-align: right;\">\n      <th></th>\n      <th>index</th>\n      <th>id</th>\n      <th>StuId</th>\n      <th>Class</th>\n      <th>Sex</th>\n      <th>CHI611</th>\n      <th>MATH611</th>\n      <th>ENG611</th>\n      <th>CHI612</th>\n      <th>MATH612</th>\n      <th>...</th>\n      <th>CHI912</th>\n      <th>MATH912</th>\n      <th>ENG912</th>\n      <th>PHY912</th>\n      <th>CHE912</th>\n      <th>CHI921</th>\n      <th>MATH921</th>\n      <th>ENG921</th>\n      <th>PHY921</th>\n      <th>CHE921</th>\n    </tr>\n  </thead>\n  <tbody>\n    <tr>\n      <th>0</th>\n      <td>0</td>\n      <td>1</td>\n      <td>A01</td>\n      <td>A</td>\n      <td>F</td>\n      <td>75.0</td>\n      <td>83.0</td>\n      <td>95.0</td>\n      <td>77.0</td>\n      <td>95.0</td>\n      <td>...</td>\n      <td>130.0</td>\n      <td>134.0</td>\n      <td>136.5</td>\n      <td>88.0</td>\n      <td>94.0</td>\n      <td>120.0</td>\n      <td>137.0</td>\n      <td>140.0</td>\n      <td>79.0</td>\n      <td>57.0</td>\n    </tr>\n    <tr>\n      <th>1</th>\n      <td>1</td>\n      <td>2</td>\n      <td>A02</td>\n      <td>A</td>\n      <td>F</td>\n      <td>88.0</td>\n      <td>100.0</td>\n      <td>90.0</td>\n      <td>88.0</td>\n      <td>100.0</td>\n      <td>...</td>\n      <td>132.0</td>\n      <td>146.0</td>\n      <td>142.0</td>\n      <td>97.0</td>\n      <td>96.0</td>\n      <td>134.0</td>\n      <td>138.0</td>\n      <td>145.5</td>\n      <td>84.0</td>\n      <td>57.0</td>\n    </tr>\n    <tr>\n      <th>2</th>\n      <td>2</td>\n      <td>3</td>\n      <td>A03</td>\n      <td>A</td>\n      <td>F</td>\n      <td>85.0</td>\n      <td>97.0</td>\n      <td>91.0</td>\n      <td>87.0</td>\n      <td>96.0</td>\n      <td>...</td>\n      <td>132.0</td>\n      <td>146.0</td>\n      <td>144.5</td>\n      <td>96.0</td>\n      <td>95.0</td>\n      <td>134.0</td>\n      <td>145.0</td>\n      <td>146.0</td>\n      <td>86.0</td>\n      <td>57.0</td>\n    </tr>\n    <tr>\n      <th>3</th>\n      <td>3</td>\n      <td>4</td>\n      <td>A04</td>\n      <td>A</td>\n      <td>F</td>\n      <td>83.0</td>\n      <td>97.0</td>\n      <td>97.0</td>\n      <td>83.0</td>\n      <td>94.0</td>\n      <td>...</td>\n      <td>133.0</td>\n      <td>129.0</td>\n      <td>142.0</td>\n      <td>84.0</td>\n      <td>94.0</td>\n      <td>121.0</td>\n      <td>136.0</td>\n      <td>140.0</td>\n      <td>83.0</td>\n      <td>53.0</td>\n    </tr>\n    <tr>\n      <th>4</th>\n      <td>4</td>\n      <td>5</td>\n      <td>A05</td>\n      <td>A</td>\n      <td>F</td>\n      <td>81.0</td>\n      <td>89.0</td>\n      <td>94.0</td>\n      <td>84.0</td>\n      <td>89.0</td>\n      <td>...</td>\n      <td>127.0</td>\n      <td>137.0</td>\n      <td>136.0</td>\n      <td>87.0</td>\n      <td>92.0</td>\n      <td>124.0</td>\n      <td>140.0</td>\n      <td>128.0</td>\n      <td>79.0</td>\n      <td>54.0</td>\n    </tr>\n    <tr>\n      <th>...</th>\n      <td>...</td>\n      <td>...</td>\n      <td>...</td>\n      <td>...</td>\n      <td>...</td>\n      <td>...</td>\n      <td>...</td>\n      <td>...</td>\n      <td>...</td>\n      <td>...</td>\n      <td>...</td>\n      <td>...</td>\n      <td>...</td>\n      <td>...</td>\n      <td>...</td>\n      <td>...</td>\n      <td>...</td>\n      <td>...</td>\n      <td>...</td>\n      <td>...</td>\n      <td>...</td>\n    </tr>\n    <tr>\n      <th>184</th>\n      <td>237</td>\n      <td>238</td>\n      <td>G25</td>\n      <td>G</td>\n      <td>M</td>\n      <td>67.0</td>\n      <td>49.0</td>\n      <td>49.0</td>\n      <td>55.0</td>\n      <td>54.0</td>\n      <td>...</td>\n      <td>94.0</td>\n      <td>20.0</td>\n      <td>52.5</td>\n      <td>46.0</td>\n      <td>75.0</td>\n      <td>93.0</td>\n      <td>10.0</td>\n      <td>60.0</td>\n      <td>42.0</td>\n      <td>39.0</td>\n    </tr>\n    <tr>\n      <th>185</th>\n      <td>238</td>\n      <td>239</td>\n      <td>G26</td>\n      <td>G</td>\n      <td>M</td>\n      <td>41.0</td>\n      <td>43.0</td>\n      <td>57.0</td>\n      <td>51.0</td>\n      <td>63.0</td>\n      <td>...</td>\n      <td>69.0</td>\n      <td>54.0</td>\n      <td>65.0</td>\n      <td>57.0</td>\n      <td>74.0</td>\n      <td>54.0</td>\n      <td>68.0</td>\n      <td>74.0</td>\n      <td>41.0</td>\n      <td>42.0</td>\n    </tr>\n    <tr>\n      <th>186</th>\n      <td>239</td>\n      <td>240</td>\n      <td>G27</td>\n      <td>G</td>\n      <td>M</td>\n      <td>70.0</td>\n      <td>80.0</td>\n      <td>77.0</td>\n      <td>69.0</td>\n      <td>75.0</td>\n      <td>...</td>\n      <td>119.0</td>\n      <td>133.0</td>\n      <td>123.0</td>\n      <td>88.0</td>\n      <td>86.0</td>\n      <td>112.0</td>\n      <td>114.0</td>\n      <td>134.5</td>\n      <td>74.0</td>\n      <td>52.0</td>\n    </tr>\n    <tr>\n      <th>187</th>\n      <td>241</td>\n      <td>242</td>\n      <td>G29</td>\n      <td>G</td>\n      <td>M</td>\n      <td>59.0</td>\n      <td>12.0</td>\n      <td>62.0</td>\n      <td>57.0</td>\n      <td>9.0</td>\n      <td>...</td>\n      <td>89.0</td>\n      <td>10.0</td>\n      <td>58.0</td>\n      <td>30.0</td>\n      <td>25.0</td>\n      <td>78.0</td>\n      <td>26.0</td>\n      <td>77.5</td>\n      <td>29.0</td>\n      <td>9.0</td>\n    </tr>\n    <tr>\n      <th>188</th>\n      <td>242</td>\n      <td>243</td>\n      <td>G30</td>\n      <td>G</td>\n      <td>M</td>\n      <td>66.0</td>\n      <td>56.0</td>\n      <td>72.0</td>\n      <td>70.0</td>\n      <td>62.0</td>\n      <td>...</td>\n      <td>85.0</td>\n      <td>85.0</td>\n      <td>110.5</td>\n      <td>68.0</td>\n      <td>88.0</td>\n      <td>102.0</td>\n      <td>103.0</td>\n      <td>123.5</td>\n      <td>68.0</td>\n      <td>50.0</td>\n    </tr>\n  </tbody>\n</table>\n<p>189 rows × 60 columns</p>\n</div>"
     },
     "execution_count": 5,
     "metadata": {},
     "output_type": "execute_result"
    }
   ],
   "source": [
    "Data['Sex'] = Data['Sex'].fillna(method='ffill')\n",
    "for i in range(5, Data.shape[1]):\n",
    "    Data.iloc[:, i] = Data.iloc[:, i].fillna(Data.iloc[:, i].median())\n",
    "Data"
   ],
   "metadata": {
    "collapsed": false,
    "pycharm": {
     "name": "#%%\n"
    }
   }
  },
  {
   "cell_type": "markdown",
   "source": [
    "5.数据预处理IV"
   ],
   "metadata": {
    "collapsed": false,
    "pycharm": {
     "name": "#%% md\n"
    }
   }
  },
  {
   "cell_type": "code",
   "execution_count": 6,
   "outputs": [
    {
     "data": {
      "text/plain": "     index   id StuId Class Sex  CHI611  MATH611  ENG611  CHI612  MATH612  \\\n0        0    1   A01     A   F    75.0     83.0    95.0    77.0     95.0   \n1        1    2   A02     A   F    88.0    100.0    90.0    88.0    100.0   \n2        2    3   A03     A   F    85.0     97.0    91.0    87.0     96.0   \n3        3    4   A04     A   F    83.0     97.0    97.0    83.0     94.0   \n4        4    5   A05     A   F    81.0     89.0    94.0    84.0     89.0   \n..     ...  ...   ...   ...  ..     ...      ...     ...     ...      ...   \n184    237  238   G25     G   M    67.0     49.0    49.0    55.0     54.0   \n185    238  239   G26     G   M    41.0     43.0    57.0    51.0     63.0   \n186    239  240   G27     G   M    70.0     80.0    77.0    69.0     75.0   \n187    241  242   G29     G   M    59.0     12.0    62.0    57.0      9.0   \n188    242  243   G30     G   M    66.0     56.0    72.0    70.0     62.0   \n\n     ...     CHI912    MATH912     ENG912  PHY912  CHE912     CHI921  \\\n0    ...  86.666667  89.333333  91.000000    88.0    94.0  80.000000   \n1    ...  88.000000  97.333333  94.666667    97.0    96.0  89.333333   \n2    ...  88.000000  97.333333  96.333333    96.0    95.0  89.333333   \n3    ...  88.666667  86.000000  94.666667    84.0    94.0  80.666667   \n4    ...  84.666667  91.333333  90.666667    87.0    92.0  82.666667   \n..   ...        ...        ...        ...     ...     ...        ...   \n184  ...  62.666667  13.333333  35.000000    46.0    75.0  62.000000   \n185  ...  46.000000  36.000000  43.333333    57.0    74.0  36.000000   \n186  ...  79.333333  88.666667  82.000000    88.0    86.0  74.666667   \n187  ...  59.333333   6.666667  38.666667    30.0    25.0  52.000000   \n188  ...  56.666667  56.666667  73.666667    68.0    88.0  68.000000   \n\n       MATH921     ENG921     PHY921     CHE921  \n0    91.333333  93.333333  87.777778  95.000000  \n1    92.000000  97.000000  93.333333  95.000000  \n2    96.666667  97.333333  95.555556  95.000000  \n3    90.666667  93.333333  92.222222  88.333333  \n4    93.333333  85.333333  87.777778  90.000000  \n..         ...        ...        ...        ...  \n184   6.666667  40.000000  46.666667  65.000000  \n185  45.333333  49.333333  45.555556  70.000000  \n186  76.000000  89.666667  82.222222  86.666667  \n187  17.333333  51.666667  32.222222  15.000000  \n188  68.666667  82.333333  75.555556  83.333333  \n\n[189 rows x 60 columns]",
      "text/html": "<div>\n<style scoped>\n    .dataframe tbody tr th:only-of-type {\n        vertical-align: middle;\n    }\n\n    .dataframe tbody tr th {\n        vertical-align: top;\n    }\n\n    .dataframe thead th {\n        text-align: right;\n    }\n</style>\n<table border=\"1\" class=\"dataframe\">\n  <thead>\n    <tr style=\"text-align: right;\">\n      <th></th>\n      <th>index</th>\n      <th>id</th>\n      <th>StuId</th>\n      <th>Class</th>\n      <th>Sex</th>\n      <th>CHI611</th>\n      <th>MATH611</th>\n      <th>ENG611</th>\n      <th>CHI612</th>\n      <th>MATH612</th>\n      <th>...</th>\n      <th>CHI912</th>\n      <th>MATH912</th>\n      <th>ENG912</th>\n      <th>PHY912</th>\n      <th>CHE912</th>\n      <th>CHI921</th>\n      <th>MATH921</th>\n      <th>ENG921</th>\n      <th>PHY921</th>\n      <th>CHE921</th>\n    </tr>\n  </thead>\n  <tbody>\n    <tr>\n      <th>0</th>\n      <td>0</td>\n      <td>1</td>\n      <td>A01</td>\n      <td>A</td>\n      <td>F</td>\n      <td>75.0</td>\n      <td>83.0</td>\n      <td>95.0</td>\n      <td>77.0</td>\n      <td>95.0</td>\n      <td>...</td>\n      <td>86.666667</td>\n      <td>89.333333</td>\n      <td>91.000000</td>\n      <td>88.0</td>\n      <td>94.0</td>\n      <td>80.000000</td>\n      <td>91.333333</td>\n      <td>93.333333</td>\n      <td>87.777778</td>\n      <td>95.000000</td>\n    </tr>\n    <tr>\n      <th>1</th>\n      <td>1</td>\n      <td>2</td>\n      <td>A02</td>\n      <td>A</td>\n      <td>F</td>\n      <td>88.0</td>\n      <td>100.0</td>\n      <td>90.0</td>\n      <td>88.0</td>\n      <td>100.0</td>\n      <td>...</td>\n      <td>88.000000</td>\n      <td>97.333333</td>\n      <td>94.666667</td>\n      <td>97.0</td>\n      <td>96.0</td>\n      <td>89.333333</td>\n      <td>92.000000</td>\n      <td>97.000000</td>\n      <td>93.333333</td>\n      <td>95.000000</td>\n    </tr>\n    <tr>\n      <th>2</th>\n      <td>2</td>\n      <td>3</td>\n      <td>A03</td>\n      <td>A</td>\n      <td>F</td>\n      <td>85.0</td>\n      <td>97.0</td>\n      <td>91.0</td>\n      <td>87.0</td>\n      <td>96.0</td>\n      <td>...</td>\n      <td>88.000000</td>\n      <td>97.333333</td>\n      <td>96.333333</td>\n      <td>96.0</td>\n      <td>95.0</td>\n      <td>89.333333</td>\n      <td>96.666667</td>\n      <td>97.333333</td>\n      <td>95.555556</td>\n      <td>95.000000</td>\n    </tr>\n    <tr>\n      <th>3</th>\n      <td>3</td>\n      <td>4</td>\n      <td>A04</td>\n      <td>A</td>\n      <td>F</td>\n      <td>83.0</td>\n      <td>97.0</td>\n      <td>97.0</td>\n      <td>83.0</td>\n      <td>94.0</td>\n      <td>...</td>\n      <td>88.666667</td>\n      <td>86.000000</td>\n      <td>94.666667</td>\n      <td>84.0</td>\n      <td>94.0</td>\n      <td>80.666667</td>\n      <td>90.666667</td>\n      <td>93.333333</td>\n      <td>92.222222</td>\n      <td>88.333333</td>\n    </tr>\n    <tr>\n      <th>4</th>\n      <td>4</td>\n      <td>5</td>\n      <td>A05</td>\n      <td>A</td>\n      <td>F</td>\n      <td>81.0</td>\n      <td>89.0</td>\n      <td>94.0</td>\n      <td>84.0</td>\n      <td>89.0</td>\n      <td>...</td>\n      <td>84.666667</td>\n      <td>91.333333</td>\n      <td>90.666667</td>\n      <td>87.0</td>\n      <td>92.0</td>\n      <td>82.666667</td>\n      <td>93.333333</td>\n      <td>85.333333</td>\n      <td>87.777778</td>\n      <td>90.000000</td>\n    </tr>\n    <tr>\n      <th>...</th>\n      <td>...</td>\n      <td>...</td>\n      <td>...</td>\n      <td>...</td>\n      <td>...</td>\n      <td>...</td>\n      <td>...</td>\n      <td>...</td>\n      <td>...</td>\n      <td>...</td>\n      <td>...</td>\n      <td>...</td>\n      <td>...</td>\n      <td>...</td>\n      <td>...</td>\n      <td>...</td>\n      <td>...</td>\n      <td>...</td>\n      <td>...</td>\n      <td>...</td>\n      <td>...</td>\n    </tr>\n    <tr>\n      <th>184</th>\n      <td>237</td>\n      <td>238</td>\n      <td>G25</td>\n      <td>G</td>\n      <td>M</td>\n      <td>67.0</td>\n      <td>49.0</td>\n      <td>49.0</td>\n      <td>55.0</td>\n      <td>54.0</td>\n      <td>...</td>\n      <td>62.666667</td>\n      <td>13.333333</td>\n      <td>35.000000</td>\n      <td>46.0</td>\n      <td>75.0</td>\n      <td>62.000000</td>\n      <td>6.666667</td>\n      <td>40.000000</td>\n      <td>46.666667</td>\n      <td>65.000000</td>\n    </tr>\n    <tr>\n      <th>185</th>\n      <td>238</td>\n      <td>239</td>\n      <td>G26</td>\n      <td>G</td>\n      <td>M</td>\n      <td>41.0</td>\n      <td>43.0</td>\n      <td>57.0</td>\n      <td>51.0</td>\n      <td>63.0</td>\n      <td>...</td>\n      <td>46.000000</td>\n      <td>36.000000</td>\n      <td>43.333333</td>\n      <td>57.0</td>\n      <td>74.0</td>\n      <td>36.000000</td>\n      <td>45.333333</td>\n      <td>49.333333</td>\n      <td>45.555556</td>\n      <td>70.000000</td>\n    </tr>\n    <tr>\n      <th>186</th>\n      <td>239</td>\n      <td>240</td>\n      <td>G27</td>\n      <td>G</td>\n      <td>M</td>\n      <td>70.0</td>\n      <td>80.0</td>\n      <td>77.0</td>\n      <td>69.0</td>\n      <td>75.0</td>\n      <td>...</td>\n      <td>79.333333</td>\n      <td>88.666667</td>\n      <td>82.000000</td>\n      <td>88.0</td>\n      <td>86.0</td>\n      <td>74.666667</td>\n      <td>76.000000</td>\n      <td>89.666667</td>\n      <td>82.222222</td>\n      <td>86.666667</td>\n    </tr>\n    <tr>\n      <th>187</th>\n      <td>241</td>\n      <td>242</td>\n      <td>G29</td>\n      <td>G</td>\n      <td>M</td>\n      <td>59.0</td>\n      <td>12.0</td>\n      <td>62.0</td>\n      <td>57.0</td>\n      <td>9.0</td>\n      <td>...</td>\n      <td>59.333333</td>\n      <td>6.666667</td>\n      <td>38.666667</td>\n      <td>30.0</td>\n      <td>25.0</td>\n      <td>52.000000</td>\n      <td>17.333333</td>\n      <td>51.666667</td>\n      <td>32.222222</td>\n      <td>15.000000</td>\n    </tr>\n    <tr>\n      <th>188</th>\n      <td>242</td>\n      <td>243</td>\n      <td>G30</td>\n      <td>G</td>\n      <td>M</td>\n      <td>66.0</td>\n      <td>56.0</td>\n      <td>72.0</td>\n      <td>70.0</td>\n      <td>62.0</td>\n      <td>...</td>\n      <td>56.666667</td>\n      <td>56.666667</td>\n      <td>73.666667</td>\n      <td>68.0</td>\n      <td>88.0</td>\n      <td>68.000000</td>\n      <td>68.666667</td>\n      <td>82.333333</td>\n      <td>75.555556</td>\n      <td>83.333333</td>\n    </tr>\n  </tbody>\n</table>\n<p>189 rows × 60 columns</p>\n</div>"
     },
     "execution_count": 6,
     "metadata": {},
     "output_type": "execute_result"
    }
   ],
   "source": [
    "for i in range(5, Data.shape[1]):\n",
    "    Max = Data.iloc[:, i].max()\n",
    "    if Max <= 60:\n",
    "        Data.iloc[:, i] *= 100 / 60\n",
    "    elif Max <= 90 and Data.columns[i][:3] == 'PHY':\n",
    "        Data.iloc[:, i] *= 100 / 90\n",
    "    elif 100 < Max <= 120:\n",
    "        Data.iloc[:, i] *= 100 / 120\n",
    "    elif 120 < Max <= 150:\n",
    "        Data.iloc[:, i] *= 100 / 150\n",
    "Data"
   ],
   "metadata": {
    "collapsed": false,
    "pycharm": {
     "name": "#%%\n"
    }
   }
  },
  {
   "cell_type": "markdown",
   "source": [
    "6.数据分析与可视化I"
   ],
   "metadata": {
    "collapsed": false,
    "pycharm": {
     "name": "#%% md\n"
    }
   }
  },
  {
   "cell_type": "code",
   "execution_count": 7,
   "outputs": [
    {
     "data": {
      "text/plain": "<Figure size 432x288 with 1 Axes>",
      "image/png": "[encoded data removed]"
     },
     "metadata": {
      "needs_background": "light"
     },
     "output_type": "display_data"
    }
   ],
   "source": [
    "FMNum = np.zeros(14, int)\n",
    "for i in range(Data.shape[0]):\n",
    "    temp = Data.iloc[i, :]\n",
    "    if temp[4] == 'F':\n",
    "        FMNum[2*(ord(temp[3]) - ord('A'))] += 1\n",
    "    else:\n",
    "        FMNum[2*(ord(temp[3]) - ord('A')) + 1] += 1\n",
    "xLabel = ['AF', 'AM', 'BF', 'BM', 'CF', 'CM', 'DF', 'DM', 'EF', 'EM', 'FF', 'FM', 'GF', 'GM']\n",
    "color = []\n",
    "for i in range(7):\n",
    "    color.append('red')\n",
    "    color.append('blue')\n",
    "x = np.arange(14)\n",
    "plt.xticks(x, xLabel)\n",
    "plt.bar(x, FMNum, color=color)\n",
    "plt.ylim(0, 18)\n",
    "plt.show()"
   ],
   "metadata": {
    "collapsed": false,
    "pycharm": {
     "name": "#%%\n"
    }
   }
  },
  {
   "cell_type": "markdown",
   "source": [
    "7.数据分析与可视化II"
   ],
   "metadata": {
    "collapsed": false,
    "pycharm": {
     "name": "#%% md\n"
    }
   }
  },
  {
   "cell_type": "code",
   "execution_count": 8,
   "outputs": [
    {
     "data": {
      "text/plain": "<Figure size 432x288 with 1 Axes>",
      "image/png": "[encoded data removed]"
     },
     "metadata": {
      "needs_background": "light"
     },
     "output_type": "display_data"
    }
   ],
   "source": [
    "S1 = Data.iloc[12]\n",
    "S2 = Data.iloc[14]\n",
    "score1 = []\n",
    "score2 = []\n",
    "for i in range(5, Data.shape[1]):\n",
    "    if Data.columns[i][:3] == 'CHI':\n",
    "        score1.append(S1[i])\n",
    "        score2.append(S2[i])\n",
    "plt.plot(np.arange(15), score1, np.arange(15), score2)\n",
    "plt.show()"
   ],
   "metadata": {
    "collapsed": false,
    "pycharm": {
     "name": "#%%\n"
    }
   }
  },
  {
   "cell_type": "markdown",
   "source": [
    "8.数据分析III"
   ],
   "metadata": {
    "collapsed": false,
    "pycharm": {
     "name": "#%% md\n"
    }
   }
  },
  {
   "cell_type": "code",
   "execution_count": 9,
   "outputs": [
    {
     "data": {
      "text/plain": "[['B17', 'B', 42.0, 30.0],\n ['D02', 'D', 75.0, 51.0],\n ['D13', 'D', 73.0, 54.0],\n ['D29', 'D', 76.0, 54.0],\n ['E14', 'E', 64.0, 47.0],\n ['E22', 'E', 65.0, 46.0],\n ['E23', 'E', 68.0, 54.0],\n ['E26', 'E', 53.0, 26.0],\n ['E28', 'E', 48.0, 36.0],\n ['E29', 'E', 70.0, 53.0],\n ['E30', 'E', 48.0, 34.0],\n ['E31', 'E', 76.0, 56.0],\n ['F09', 'F', 67.0, 36.0],\n ['F10', 'F', 61.0, 37.0],\n ['F11', 'F', 50.0, 34.0],\n ['F18', 'F', 58.0, 53.0],\n ['F20', 'F', 56.0, 82.0],\n ['F22', 'F', 56.0, 79.0],\n ['F27', 'F', 72.0, 53.0],\n ['G08', 'G', 63.0, 53.0],\n ['G13', 'G', 67.0, 41.0],\n ['G14', 'G', 48.0, 52.0],\n ['G25', 'G', 77.0, 44.0],\n ['G26', 'G', 35.0, 76.0],\n ['G29', 'G', 59.0, 60.0],\n ['G30', 'G', 57.0, 82.0]]"
     },
     "execution_count": 9,
     "metadata": {},
     "output_type": "execute_result"
    }
   ],
   "source": [
    "record = []\n",
    "for i in range(Data.shape[0]):\n",
    "    temp = Data.iloc[i]\n",
    "    if temp['CHI721'] < 60 or temp['ENG721'] < 60:\n",
    "        record.append([temp['StuId'], temp['Class'], temp['CHI721'], temp['ENG721']])\n",
    "record"
   ],
   "metadata": {
    "collapsed": false,
    "pycharm": {
     "name": "#%%\n"
    }
   }
  },
  {
   "cell_type": "markdown",
   "source": [
    "9.数据分析IV"
   ],
   "metadata": {
    "collapsed": false,
    "pycharm": {
     "name": "#%% md\n"
    }
   }
  },
  {
   "cell_type": "code",
   "execution_count": 10,
   "outputs": [
    {
     "name": "stdout",
     "output_type": "stream",
     "text": [
      "the mean of CHI622 ClassA:81.41    the mean of CHI622 ClassC:76.97\n",
      "the var of CHI622 ClassA:28.7    the var of CHI622 ClassC:26.26\n",
      "the mean of MATH622 ClassA:90.75    the mean of MATH622 ClassC:89.2\n",
      "the var of MATH622 ClassA:19.94    the var of MATH622 ClassC:71.69\n",
      "the mean of ENG622 ClassA:89.97    the mean of ENG622 ClassC:91.26\n",
      "the var of ENG622 ClassA:32.16    the var of ENG622 ClassC:37.61\n"
     ]
    }
   ],
   "source": [
    "Data_ClassA = Data.iloc[:32]\n",
    "Data_ClassC = Data.iloc[66:101]\n",
    "print(f\"the mean of CHI622 ClassA:{round(Data_ClassA['CHI622'].mean(), 2)}    the mean of CHI622 ClassC:{round(Data_ClassC['CHI622'].mean(), 2)}\")\n",
    "print(f\"the var of CHI622 ClassA:{round(Data_ClassA['CHI622'].var(), 2)}    the var of CHI622 ClassC:{round(Data_ClassC['CHI622'].var(), 2)}\")\n",
    "print(f\"the mean of MATH622 ClassA:{round(Data_ClassA['MATH622'].mean(), 2)}    the mean of MATH622 ClassC:{round(Data_ClassC['MATH622'].mean(), 2)}\")\n",
    "print(f\"the var of MATH622 ClassA:{round(Data_ClassA['MATH622'].var(), 2)}    the var of MATH622 ClassC:{round(Data_ClassC['MATH622'].var(), 2)}\")\n",
    "print(f\"the mean of ENG622 ClassA:{round(Data_ClassA['ENG622'].mean(), 2)}    the mean of ENG622 ClassC:{round(Data_ClassC['ENG622'].mean(), 2)}\")\n",
    "print(f\"the var of ENG622 ClassA:{round(Data_ClassA['ENG622'].var(), 2)}    the var of ENG622 ClassC:{round(Data_ClassC['ENG622'].var(), 2)}\")"
   ],
   "metadata": {
    "collapsed": false,
    "pycharm": {
     "name": "#%%\n"
    }
   }
  },
  {
   "cell_type": "markdown",
   "source": [
    "可见A班语文平均成绩高但不如C分布均匀\n",
    "两班数学成绩相近但C班高低分相差很大\n",
    "英语C班较好但分布不均"
   ],
   "metadata": {
    "collapsed": false,
    "pycharm": {
     "name": "#%% md\n"
    }
   }
  },
  {
   "cell_type": "markdown",
   "source": [
    "10.数据存储"
   ],
   "metadata": {
    "collapsed": false,
    "pycharm": {
     "name": "#%% md\n"
    }
   }
  },
  {
   "cell_type": "code",
   "execution_count": 11,
   "outputs": [],
   "source": [
    "towrite = pd.DataFrame(record, columns=['StuId', 'Class', 'CHI721', 'ENG721'])\n",
    "towrite.to_csv('./task_8.csv', index=0)"
   ],
   "metadata": {
    "collapsed": false,
    "pycharm": {
     "name": "#%%\n"
    }
   }
  },
  {
   "cell_type": "markdown",
   "source": [],
   "metadata": {
    "collapsed": false,
    "pycharm": {
     "name": "#%% md\n"
    }
   }
  }
 ],
 "metadata": {
  "kernelspec": {
   "display_name": "Python 3",
   "language": "python",
   "name": "python3"
  },
  "language_info": {
   "codemirror_mode": {
    "name": "ipython",
    "version": 2
   },
   "file_extension": ".py",
   "mimetype": "text/x-python",
   "name": "python",
   "nbconvert_exporter": "python",
   "pygments_lexer": "ipython2",
   "version": "2.7.6"
  }
 },
 "nbformat": 4,
 "nbformat_minor": 0
}