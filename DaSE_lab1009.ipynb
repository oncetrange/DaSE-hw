{
 "cells": [
  {
   "cell_type": "markdown",
   "source": [
    "1.IPv4进制转换"
   ],
   "metadata": {
    "collapsed": false,
    "pycharm": {
     "name": "#%% md\n"
    }
   }
  },
  {
   "cell_type": "code",
   "execution_count": 6,
   "outputs": [
    {
     "name": "stdout",
     "output_type": "stream",
     "text": [
      "11001011101100110001100100100101\n"
     ]
    }
   ],
   "source": [
    "import math\n",
    "\n",
    "\n",
    "def d2b(ipv4):\n",
    "    a = ipv4.split('.')\n",
    "    a = list(map(int, a))\n",
    "    res = ''\n",
    "    for i in range(3, -1, -1):\n",
    "        for j in range(8):\n",
    "            res = str(a[i] % 2)+res\n",
    "            a[i] = math.floor(a[i]/2)\n",
    "    print(res)\n",
    "\n",
    "\n",
    "d2b(\"203.179.25.37\")"
   ],
   "metadata": {
    "collapsed": false,
    "pycharm": {
     "name": "#%%\n"
    }
   }
  },
  {
   "cell_type": "markdown",
   "source": [
    "2.队列"
   ],
   "metadata": {
    "collapsed": false,
    "pycharm": {
     "name": "#%% md\n"
    }
   }
  },
  {
   "cell_type": "code",
   "execution_count": 7,
   "outputs": [
    {
     "name": "stdout",
     "output_type": "stream",
     "text": [
      "3\n",
      "False\n",
      "1\n",
      "5\n",
      "ERROR:Queue is empty now!\n",
      "True\n",
      "ERROR:Queue is empty now!\n",
      "None\n"
     ]
    }
   ],
   "source": [
    "class Queue:\n",
    "    def __init__(self):\n",
    "        self.__items = []\n",
    "    def length(self):\n",
    "        return len(self.__items)\n",
    "    def isempty(self):\n",
    "        if len(self.__items) == 0:\n",
    "            return True\n",
    "        else:\n",
    "            return False\n",
    "    def enqueue(self, element):\n",
    "        self.__items.append(element)\n",
    "    def dequeue(self):\n",
    "        try:\n",
    "            return self.__items.pop(0)\n",
    "        except:\n",
    "            print('ERROR:Queue is empty now!')\n",
    "    def get_head(self):\n",
    "        try:\n",
    "            return self.__items[0]\n",
    "        except:\n",
    "            print('ERROR:Queue is empty now!')\n",
    "    def get_tail(self):\n",
    "        try:\n",
    "            return self.__items[-1]\n",
    "        except:\n",
    "            print('ERROR:Queue is empty now!')\n",
    "\n",
    "\n",
    "#测试\n",
    "Q=Queue()\n",
    "Q.enqueue(1)\n",
    "Q.enqueue(3)\n",
    "Q.enqueue(5)\n",
    "print(Q.length())\n",
    "print(Q.isempty())\n",
    "print(Q.get_head())\n",
    "print(Q.get_tail())\n",
    "Q.dequeue()\n",
    "Q.dequeue()\n",
    "Q.dequeue()\n",
    "Q.dequeue()\n",
    "print(Q.isempty())\n",
    "print(Q.get_tail())"
   ],
   "metadata": {
    "collapsed": false,
    "pycharm": {
     "name": "#%%\n"
    }
   }
  },
  {
   "cell_type": "markdown",
   "source": [
    "3.二叉树层序遍历"
   ],
   "metadata": {
    "collapsed": false,
    "pycharm": {
     "name": "#%% md\n"
    }
   }
  },
  {
   "cell_type": "code",
   "execution_count": 10,
   "outputs": [
    {
     "name": "stdout",
     "output_type": "stream",
     "text": [
      "1 2 3 4 5 6 7 "
     ]
    }
   ],
   "source": [
    "class Queue:\n",
    "    def __init__(self):\n",
    "        self.__items = []\n",
    "    def length(self):\n",
    "        return len(self.__items)\n",
    "    def isempty(self):\n",
    "        if len(self.__items) == 0:\n",
    "            return True\n",
    "        else:\n",
    "            return False\n",
    "    def enqueue(self, element):\n",
    "        self.__items.append(element)\n",
    "    def dequeue(self):\n",
    "        try:\n",
    "            return self.__items.pop(0)\n",
    "        except:\n",
    "            print('ERROR:Queue is empty now!')\n",
    "    def get_head(self):\n",
    "        try:\n",
    "            return self.__items[0]\n",
    "        except:\n",
    "            print('ERROR:Queue is empty now!')\n",
    "    def get_tail(self):\n",
    "        try:\n",
    "            return self.__items[-1]\n",
    "        except:\n",
    "            print('ERROR:Queue is empty now!')\n",
    "\n",
    "\n",
    "class BinaryTree:\n",
    "    Q=Queue()\n",
    "    def __init__(self,data=None,left=None,right=None):\n",
    "        self.data=data\n",
    "        self.left=left\n",
    "        self.right=right\n",
    "    def level_order(self):\n",
    "        BinaryTree.Q.enqueue(self)\n",
    "        while BinaryTree.Q.isempty() == False:\n",
    "            node = BinaryTree.Q.dequeue()\n",
    "            print(node.data,end=' ')\n",
    "            if node.left != None:\n",
    "                BinaryTree.Q.enqueue(node.left)\n",
    "            if node.right != None:\n",
    "                BinaryTree.Q.enqueue(node.right)\n",
    "\n",
    "\n",
    "#测试\n",
    "layer2_3 = BinaryTree(3,BinaryTree(6),BinaryTree(7))\n",
    "layer2_2 = BinaryTree(2,BinaryTree(4),BinaryTree(5))\n",
    "layer1_1 = BinaryTree(1,layer2_2,layer2_3)\n",
    "layer1_1.level_order()"
   ],
   "metadata": {
    "collapsed": false,
    "pycharm": {
     "name": "#%%\n"
    }
   }
  },
  {
   "cell_type": "markdown",
   "source": [
    "4.叶子节点遍历"
   ],
   "metadata": {
    "collapsed": false,
    "pycharm": {
     "name": "#%% md\n"
    }
   }
  },
  {
   "cell_type": "code",
   "execution_count": 11,
   "outputs": [
    {
     "name": "stdout",
     "output_type": "stream",
     "text": [
      "4 5 6 7 "
     ]
    }
   ],
   "source": [
    "class BinaryTree:\n",
    "    def __init__(self,data=None,left=None,right=None):\n",
    "        self.data = data\n",
    "        self.left = left\n",
    "        self.right = right\n",
    "    def print_leaf(self):\n",
    "        if self.left == None and self.right == None:\n",
    "            print(self.data,end=' ')\n",
    "        if self.left != None:\n",
    "            self.left.print_leaf()\n",
    "        if self.right != None:\n",
    "            self.right.print_leaf()\n",
    "\n",
    "\n",
    "#测试\n",
    "layer2_3 = BinaryTree(3,BinaryTree(6),BinaryTree(7))\n",
    "layer2_2 = BinaryTree(2,BinaryTree(4),BinaryTree(5))\n",
    "layer1_1 = BinaryTree(1,layer2_2,layer2_3)\n",
    "layer1_1.print_leaf()"
   ],
   "metadata": {
    "collapsed": false,
    "pycharm": {
     "name": "#%%\n"
    }
   }
  }
 ],
 "metadata": {
  "kernelspec": {
   "display_name": "Python 3",
   "language": "python",
   "name": "python3"
  },
  "language_info": {
   "codemirror_mode": {
    "name": "ipython",
    "version": 2
   },
   "file_extension": ".py",
   "mimetype": "text/x-python",
   "name": "python",
   "nbconvert_exporter": "python",
   "pygments_lexer": "ipython2",
   "version": "2.7.6"
  }
 },
 "nbformat": 4,
 "nbformat_minor": 0
}