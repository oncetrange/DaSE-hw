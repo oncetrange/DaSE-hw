{
 "cells": [
  {
   "cell_type": "markdown",
   "metadata": {
    "collapsed": true,
    "pycharm": {
     "name": "#%% md\n"
    }
   },
   "source": [
    "1. 从第18条记录开始的5条记录"
   ]
  },
  {
   "cell_type": "code",
   "execution_count": 1,
   "outputs": [
    {
     "name": "stdout",
     "output_type": "stream",
     "text": [
      "((18, 1, 17, 1, 8, 4, 1, 2, 75), (19, 1, 1, 1, 18, 19, 1, 3, 5), (20, 1, 7, 0, 23, 25, 2, 1, 13), (21, 0, 9, 0, 25, 27, 1, 0, 67), (22, 0, 16, 1, 11, 11, 3, 2, 76))\n"
     ]
    }
   ],
   "source": [
    "import pymysql\n",
    "db = pymysql.connect(host=\"cdb-r2g8flnu.bj.tencentcdb.com\", port=10209, user=\"dase2020\", password=\"dase2020\",\n",
    "                     database=\"dase_intro_2020\")\n",
    "cursor = db.cursor()\n",
    "sql = \"SELECT * FROM bicycle_train WHERE id>%s and id<%s\" % (17, 23)\n",
    "cursor.execute(sql)\n",
    "Data = cursor.fetchall()\n",
    "print(Data)"
   ],
   "metadata": {
    "collapsed": false,
    "pycharm": {
     "name": "#%%\n"
    }
   }
  },
  {
   "cell_type": "markdown",
   "source": [
    "2. 数据表中风级(wind)取值范围是多少"
   ],
   "metadata": {
    "collapsed": false,
    "pycharm": {
     "name": "#%% md\n"
    }
   }
  },
  {
   "cell_type": "code",
   "execution_count": 2,
   "outputs": [
    {
     "name": "stdout",
     "output_type": "stream",
     "text": [
      "the wind range is [0,7]\n"
     ]
    }
   ],
   "source": [
    "import pymysql\n",
    "db = pymysql.connect(host=\"cdb-r2g8flnu.bj.tencentcdb.com\", port=10209, user=\"dase2020\", password=\"dase2020\",\n",
    "                     database=\"dase_intro_2020\")\n",
    "cursor = db.cursor()\n",
    "sql = \"SELECT * FROM bicycle_train\"\n",
    "cursor.execute(sql)\n",
    "Data = cursor.fetchall()\n",
    "Min = Data[0][7]\n",
    "Max = Data[0][7]\n",
    "for i in range(len(Data)):\n",
    "    if Data[i][7] > Max:\n",
    "        Max = Data[i][7]\n",
    "    if Data[i][7] < Min:\n",
    "        Min = Data[i][7]\n",
    "print(\"the wind range is [%d,%d]\" % (Min, Max))"
   ],
   "metadata": {
    "collapsed": false,
    "pycharm": {
     "name": "#%%\n"
    }
   }
  },
  {
   "cell_type": "markdown",
   "source": [
    "3. 满足城市为北京市，10时，晴天，无风或1级风，租用单车数量不小于100条件下大气温度的平均值"
   ],
   "metadata": {
    "collapsed": false,
    "pycharm": {
     "name": "#%% md\n"
    }
   }
  },
  {
   "cell_type": "code",
   "execution_count": 3,
   "outputs": [
    {
     "name": "stdout",
     "output_type": "stream",
     "text": [
      "20.6000\n"
     ]
    }
   ],
   "source": [
    "import pymysql\n",
    "db = pymysql.connect(host=\"cdb-r2g8flnu.bj.tencentcdb.com\", port=10209, user=\"dase2020\", password=\"dase2020\",\n",
    "                     database=\"dase_intro_2020\")\n",
    "cursor = db.cursor()\n",
    "sql = \"SELECT AVG(temp_air) FROM bicycle_train WHERE city=0 AND hour=10 AND weather=1 AND wind<2 AND y>99\"\n",
    "cursor.execute(sql)\n",
    "Data = cursor.fetchone()[0]\n",
    "print(Data)"
   ],
   "metadata": {
    "collapsed": false,
    "pycharm": {
     "name": "#%%\n"
    }
   }
  },
  {
   "cell_type": "markdown",
   "source": [
    "4. 满足城市为北京市，10时，晴天，无风或1级风，租用单车数量不小于100条件下大气温度的方差"
   ],
   "metadata": {
    "collapsed": false,
    "pycharm": {
     "name": "#%% md\n"
    }
   }
  },
  {
   "cell_type": "code",
   "execution_count": 1,
   "outputs": [
    {
     "name": "stdout",
     "output_type": "stream",
     "text": [
      "the var of temp_air is 37.640000\n"
     ]
    }
   ],
   "source": [
    "import pymysql\n",
    "db = pymysql.connect(host=\"cdb-r2g8flnu.bj.tencentcdb.com\", port=10209, user=\"dase2020\", password=\"dase2020\",\n",
    "                     database=\"dase_intro_2020\")\n",
    "cursor = db.cursor()\n",
    "sql = \"SELECT temp_air FROM bicycle_train \" \\\n",
    "      \"WHERE city=0 AND hour=10 AND weather=1 AND wind<2 AND y>99\"\n",
    "cursor.execute(sql)\n",
    "Data = cursor.fetchall()\n",
    "var = 0\n",
    "for temp in Data:\n",
    "    var += (temp[0]-20.6)**2\n",
    "var /= len(Data)\n",
    "print(\"the var of temp_air is %f\" % var)"
   ],
   "metadata": {
    "collapsed": false,
    "pycharm": {
     "name": "#%%\n"
    }
   }
  },
  {
   "cell_type": "markdown",
   "source": [
    "5. 分城市显示工作日雨雪天单车租用总量，并降序排序"
   ],
   "metadata": {
    "collapsed": false,
    "pycharm": {
     "name": "#%% md\n"
    }
   }
  },
  {
   "cell_type": "code",
   "execution_count": 2,
   "outputs": [
    {
     "name": "stdout",
     "output_type": "stream",
     "text": [
      "Shanghai:9106\n",
      "Beijing:8084\n"
     ]
    }
   ],
   "source": [
    "import pymysql\n",
    "db = pymysql.connect(host=\"cdb-r2g8flnu.bj.tencentcdb.com\", port=10209, user=\"dase2020\", password=\"dase2020\",\n",
    "                     database=\"dase_intro_2020\")\n",
    "cursor = db.cursor()\n",
    "sql = \"SELECT city,SUM(y) FROM bicycle_train \" \\\n",
    "      \"WHERE is_workday=1 AND weather=3 GROUP BY city ORDER BY SUM(y) DESC\"\n",
    "cursor.execute(sql)\n",
    "Data = cursor.fetchall()\n",
    "dic = {0: \"Beijing\", 1: \"Shanghai\"}\n",
    "for temp in Data:\n",
    "    print(\"%s:%d\" % (dic[temp[0]], temp[1]))"
   ],
   "metadata": {
    "collapsed": false,
    "pycharm": {
     "name": "#%%\n"
    }
   }
  },
  {
   "cell_type": "markdown",
   "source": [
    "6. 分别查询17时至19时每小时上海市在工作日且体感温度不大于10摄氏度时租用单车的平均值（四舍五入至整数），并且结果按升序排序。"
   ],
   "metadata": {
    "collapsed": false,
    "pycharm": {
     "name": "#%% md\n"
    }
   }
  },
  {
   "cell_type": "code",
   "execution_count": 1,
   "outputs": [
    {
     "name": "stdout",
     "output_type": "stream",
     "text": [
      "time|average\n",
      "19  |42\n",
      "18  |63\n",
      "17  |65\n"
     ]
    }
   ],
   "source": [
    "import pymysql\n",
    "db = pymysql.connect(host=\"cdb-r2g8flnu.bj.tencentcdb.com\", port=10209, user=\"dase2020\", password=\"dase2020\",\n",
    "                     database=\"dase_intro_2020\")\n",
    "cursor = db.cursor()\n",
    "sql = \"SELECT hour,AVG(y) FROM bicycle_train WHERE hour BETWEEN 17 AND 19 AND \" \\\n",
    "      \"city=1 AND is_workday=1 AND temp_body<=10 GROUP BY hour ORDER BY AVG(y)\"\n",
    "cursor.execute(sql)\n",
    "Data = cursor.fetchall()\n",
    "print(\"time|average\")\n",
    "for temp in Data:\n",
    "    print(\"%d  |%d\" % (temp[0], round(temp[1])))"
   ],
   "metadata": {
    "collapsed": false,
    "pycharm": {
     "name": "#%%\n"
    }
   }
  }
 ],
 "metadata": {
  "kernelspec": {
   "display_name": "Python 3",
   "language": "python",
   "name": "python3"
  },
  "language_info": {
   "codemirror_mode": {
    "name": "ipython",
    "version": 2
   },
   "file_extension": ".py",
   "mimetype": "text/x-python",
   "name": "python",
   "nbconvert_exporter": "python",
   "pygments_lexer": "ipython2",
   "version": "2.7.6"
  }
 },
 "nbformat": 4,
 "nbformat_minor": 0
}